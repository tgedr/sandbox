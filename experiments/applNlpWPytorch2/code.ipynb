{
 "cells": [
  {
   "cell_type": "markdown",
   "id": "9026bb93",
   "metadata": {},
   "source": [
    "# autograd"
   ]
  },
  {
   "cell_type": "code",
   "execution_count": null,
   "id": "723169b4",
   "metadata": {},
   "outputs": [
    {
     "name": "stdout",
     "output_type": "stream",
     "text": [
      "tensor(2., requires_grad=True)\n",
      "tensor(11., grad_fn=<AddBackward0>)\n",
      "tensor(7.)\n"
     ]
    }
   ],
   "source": [
    "import torch\n",
    "\n",
    "x = torch.tensor(2.0, requires_grad=True)\n",
    "print(x)\n",
    "y = x**2 + 3*x + 1\n",
    "print(y)\n",
    "# backward computes the gradient of y\n",
    "y.backward()\n",
    "print(x.grad)"
   ]
  },
  {
   "cell_type": "code",
   "execution_count": 24,
   "id": "68f78939",
   "metadata": {},
   "outputs": [
    {
     "name": "stdout",
     "output_type": "stream",
     "text": [
      "torch.Size([569, 30])\n",
      "torch.Size([569, 1])\n"
     ]
    }
   ],
   "source": [
    "import torch.optim as optim\n",
    "import numpy as np\n",
    "from sklearn.datasets import load_breast_cancer\n",
    "data = load_breast_cancer()\n",
    "X, y = data.data, data.target\n",
    "\n",
    "X = torch.tensor(X, dtype=torch.float32)\n",
    "y = torch.tensor(y, dtype=torch.float32).reshape(-1, 1)\n",
    "print(X.shape)\n",
    "print(y.shape)"
   ]
  },
  {
   "cell_type": "markdown",
   "id": "14266da8",
   "metadata": {},
   "source": [
    "# a simple nn"
   ]
  },
  {
   "cell_type": "code",
   "execution_count": 35,
   "id": "cd6673f2",
   "metadata": {},
   "outputs": [
    {
     "name": "stdout",
     "output_type": "stream",
     "text": [
      "Sequential(\n",
      "  (0): Linear(in_features=30, out_features=64, bias=True)\n",
      "  (1): ReLU()\n",
      "  (2): Linear(in_features=64, out_features=10, bias=True)\n",
      "  (3): ReLU()\n",
      "  (4): Linear(in_features=10, out_features=1, bias=True)\n",
      "  (5): Sigmoid()\n",
      ")\n",
      "Finished epoch 0, latest loss 0.2167855054140091\n",
      "Finished epoch 1, latest loss 0.20685885846614838\n",
      "Finished epoch 2, latest loss 0.21720950305461884\n",
      "Finished epoch 3, latest loss 0.212259441614151\n",
      "Finished epoch 4, latest loss 0.25669610500335693\n",
      "Finished epoch 5, latest loss 0.3733963668346405\n",
      "Finished epoch 6, latest loss 0.7645766735076904\n",
      "Finished epoch 7, latest loss 1.1019840240478516\n",
      "Finished epoch 8, latest loss 0.9129229784011841\n",
      "Finished epoch 9, latest loss 0.4616371691226959\n",
      "Finished epoch 10, latest loss 0.3853521943092346\n",
      "Finished epoch 11, latest loss 0.42153820395469666\n",
      "Finished epoch 12, latest loss 0.7165769338607788\n",
      "Finished epoch 13, latest loss 0.5446599721908569\n",
      "Finished epoch 14, latest loss 0.5347124934196472\n",
      "Finished epoch 15, latest loss 0.3480328321456909\n",
      "Finished epoch 16, latest loss 0.361360639333725\n",
      "Finished epoch 17, latest loss 0.3508031964302063\n",
      "Finished epoch 18, latest loss 0.32347118854522705\n",
      "Finished epoch 19, latest loss 0.30396199226379395\n",
      "Finished epoch 20, latest loss 0.3080371618270874\n",
      "Finished epoch 21, latest loss 0.312710165977478\n",
      "Finished epoch 22, latest loss 0.2664691209793091\n",
      "Finished epoch 23, latest loss 0.3379119634628296\n",
      "Finished epoch 24, latest loss 0.3111935257911682\n",
      "Finished epoch 25, latest loss 0.298690527677536\n",
      "Finished epoch 26, latest loss 0.28676077723503113\n",
      "Finished epoch 27, latest loss 0.2911812961101532\n",
      "Finished epoch 28, latest loss 0.2819260358810425\n",
      "Finished epoch 29, latest loss 0.2795194089412689\n",
      "Finished epoch 30, latest loss 0.26614877581596375\n",
      "Finished epoch 31, latest loss 0.26259845495224\n",
      "Accuracy 0.927943766117096\n"
     ]
    }
   ],
   "source": [
    "from numpy import indices\n",
    "import torch\n",
    "import torch.nn as nn\n",
    "\n",
    "class SimpleNet(nn.Module):\n",
    "\n",
    "    def __init__(self):\n",
    "        super(SimpleNet, self).__init__()\n",
    "\n",
    "        self.model = nn.Sequential(\n",
    "            nn.Linear(30, 64),\n",
    "            nn.ReLU(),\n",
    "            nn.Linear(64, 10),\n",
    "            nn.ReLU(),\n",
    "            nn.Linear(10, 1),\n",
    "            nn.Sigmoid()\n",
    "        )\n",
    "        print(self.model)\n",
    "\n",
    "    def train(self, X, y):\n",
    "        loss_fn = nn.BCELoss()\n",
    "        # Adam is an optimization algorithm that can be used instead of the classical stochastic gradient descent procedure \n",
    "        # to update network weights iteratively based on training data\n",
    "        optimizer = optim.Adam(self.model.parameters(), lr=0.001) \n",
    "        n_epochs = 32\n",
    "        batch_size = 10\n",
    "        for epoch in range(n_epochs):\n",
    "            for i in range(0, X.size()[0], batch_size):\n",
    "                Xbatch = X[i:i+batch_size]\n",
    "                ybatch = y[i:i+batch_size]\n",
    "                ypred = self.model(Xbatch)\n",
    "                loss = loss_fn(ypred, ybatch)\n",
    "                optimizer.zero_grad()\n",
    "                loss.backward() # computes the gradient of the loss with respect to every parameter in your network that requires gradients\n",
    "                optimizer.step() # updates the model's parameters (weights and biases) using the gradients computed by loss.backward()\n",
    "            print(f'Finished epoch {epoch}, latest loss {loss}')\n",
    "        # compute accuracy (no_grad is optional)\n",
    "        with torch.no_grad():\n",
    "            y_pred = self.model(X)\n",
    "            accuracy = (y_pred.round() == y).float().mean()\n",
    "            print(f\"Accuracy {accuracy}\")\n",
    "\n",
    "\n",
    "net = SimpleNet()\n",
    "net.train(X, y)"
   ]
  },
  {
   "cell_type": "markdown",
   "id": "7ce5d0f7",
   "metadata": {},
   "source": [
    "# using GPU"
   ]
  },
  {
   "cell_type": "code",
   "execution_count": 33,
   "id": "b61f42b4",
   "metadata": {},
   "outputs": [
    {
     "name": "stdout",
     "output_type": "stream",
     "text": [
      "[get_device] mps device count: 1\n",
      "Using device: mps\n"
     ]
    }
   ],
   "source": [
    "DEVICE_CPU = torch.device(\"cpu\")\n",
    "DEVICE_MPS = torch.device(\"mps\")\n",
    "\n",
    "def get_device():\n",
    "\n",
    "    if torch.backends.mps.is_available():\n",
    "        print(f\"[get_device] mps device count: {torch.mps.device_count()}\")\n",
    "        result = DEVICE_MPS\n",
    "    else:\n",
    "        print(\"[get_device] MPS device not found!\")\n",
    "        result = DEVICE_CPU\n",
    "    return result\n",
    "\n",
    "device = get_device()\n",
    "print(\"Using device:\", device)"
   ]
  },
  {
   "cell_type": "code",
   "execution_count": 36,
   "id": "a528c391",
   "metadata": {},
   "outputs": [
    {
     "name": "stdout",
     "output_type": "stream",
     "text": [
      "Sequential(\n",
      "  (0): Linear(in_features=30, out_features=64, bias=True)\n",
      "  (1): ReLU()\n",
      "  (2): Linear(in_features=64, out_features=10, bias=True)\n",
      "  (3): ReLU()\n",
      "  (4): Linear(in_features=10, out_features=1, bias=True)\n",
      "  (5): Sigmoid()\n",
      ")\n",
      "Finished epoch 0, latest loss 0.5317256450653076\n",
      "Finished epoch 1, latest loss 0.40454965829849243\n",
      "Finished epoch 2, latest loss 0.34670549631118774\n",
      "Finished epoch 3, latest loss 0.3408992290496826\n",
      "Finished epoch 4, latest loss 0.35220110416412354\n",
      "Finished epoch 5, latest loss 0.3650625944137573\n",
      "Finished epoch 6, latest loss 0.3620116710662842\n",
      "Finished epoch 7, latest loss 0.3626074492931366\n",
      "Finished epoch 8, latest loss 0.35720476508140564\n",
      "Finished epoch 9, latest loss 0.35658517479896545\n",
      "Finished epoch 10, latest loss 0.34802594780921936\n",
      "Finished epoch 11, latest loss 0.34165793657302856\n",
      "Finished epoch 12, latest loss 0.34128135442733765\n",
      "Finished epoch 13, latest loss 0.3373763859272003\n",
      "Finished epoch 14, latest loss 0.333152711391449\n",
      "Finished epoch 15, latest loss 0.326569527387619\n",
      "Finished epoch 16, latest loss 0.3247646987438202\n",
      "Finished epoch 17, latest loss 0.3240327835083008\n",
      "Finished epoch 18, latest loss 0.31989791989326477\n",
      "Finished epoch 19, latest loss 0.31788402795791626\n",
      "Finished epoch 20, latest loss 0.3152990937232971\n",
      "Finished epoch 21, latest loss 0.3118581473827362\n",
      "Finished epoch 22, latest loss 0.31440770626068115\n",
      "Finished epoch 23, latest loss 0.3066721558570862\n",
      "Finished epoch 24, latest loss 0.31129851937294006\n",
      "Finished epoch 25, latest loss 0.3069433271884918\n",
      "Finished epoch 26, latest loss 0.2993457019329071\n",
      "Finished epoch 27, latest loss 0.3039041757583618\n",
      "Finished epoch 28, latest loss 0.29346591234207153\n",
      "Finished epoch 29, latest loss 0.29761752486228943\n",
      "Finished epoch 30, latest loss 0.28576934337615967\n",
      "Finished epoch 31, latest loss 0.2826870381832123\n",
      "Accuracy 0.9138840436935425\n"
     ]
    }
   ],
   "source": [
    "net = SimpleNet()\n",
    "net.to(device)\n",
    "net.train(X.to(device), y.to(device))"
   ]
  },
  {
   "cell_type": "code",
   "execution_count": null,
   "id": "3c11cdb6",
   "metadata": {},
   "outputs": [],
   "source": []
  }
 ],
 "metadata": {
  "kernelspec": {
   "display_name": ".venv",
   "language": "python",
   "name": "python3"
  },
  "language_info": {
   "codemirror_mode": {
    "name": "ipython",
    "version": 3
   },
   "file_extension": ".py",
   "mimetype": "text/x-python",
   "name": "python",
   "nbconvert_exporter": "python",
   "pygments_lexer": "ipython3",
   "version": "3.13.8"
  }
 },
 "nbformat": 4,
 "nbformat_minor": 5
}
